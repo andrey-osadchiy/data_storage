{
 "cells": [
  {
   "cell_type": "code",
   "execution_count": 2,
   "id": "58cacee0-bddd-4e89-9612-ea9fa40582ce",
   "metadata": {},
   "outputs": [
    {
     "data": {
      "text/html": [
       "<div>\n",
       "<style scoped>\n",
       "    .dataframe tbody tr th:only-of-type {\n",
       "        vertical-align: middle;\n",
       "    }\n",
       "\n",
       "    .dataframe tbody tr th {\n",
       "        vertical-align: top;\n",
       "    }\n",
       "\n",
       "    .dataframe thead th {\n",
       "        text-align: right;\n",
       "    }\n",
       "</style>\n",
       "<table border=\"1\" class=\"dataframe\">\n",
       "  <thead>\n",
       "    <tr style=\"text-align: right;\">\n",
       "      <th></th>\n",
       "      <th>Ship Mode</th>\n",
       "      <th>Segment</th>\n",
       "      <th>Country</th>\n",
       "      <th>City</th>\n",
       "      <th>State</th>\n",
       "      <th>Postal Code</th>\n",
       "      <th>Region</th>\n",
       "      <th>Category</th>\n",
       "      <th>Sub-Category</th>\n",
       "      <th>Sales</th>\n",
       "      <th>Quantity</th>\n",
       "      <th>Discount</th>\n",
       "      <th>Profit</th>\n",
       "    </tr>\n",
       "  </thead>\n",
       "  <tbody>\n",
       "    <tr>\n",
       "      <th>0</th>\n",
       "      <td>Second Class</td>\n",
       "      <td>Consumer</td>\n",
       "      <td>United States</td>\n",
       "      <td>Henderson</td>\n",
       "      <td>Kentucky</td>\n",
       "      <td>42420</td>\n",
       "      <td>South</td>\n",
       "      <td>Furniture</td>\n",
       "      <td>Bookcases</td>\n",
       "      <td>261.9600</td>\n",
       "      <td>2</td>\n",
       "      <td>0.00</td>\n",
       "      <td>41.9136</td>\n",
       "    </tr>\n",
       "    <tr>\n",
       "      <th>1</th>\n",
       "      <td>Second Class</td>\n",
       "      <td>Consumer</td>\n",
       "      <td>United States</td>\n",
       "      <td>Henderson</td>\n",
       "      <td>Kentucky</td>\n",
       "      <td>42420</td>\n",
       "      <td>South</td>\n",
       "      <td>Furniture</td>\n",
       "      <td>Chairs</td>\n",
       "      <td>731.9400</td>\n",
       "      <td>3</td>\n",
       "      <td>0.00</td>\n",
       "      <td>219.5820</td>\n",
       "    </tr>\n",
       "    <tr>\n",
       "      <th>2</th>\n",
       "      <td>Second Class</td>\n",
       "      <td>Corporate</td>\n",
       "      <td>United States</td>\n",
       "      <td>Los Angeles</td>\n",
       "      <td>California</td>\n",
       "      <td>90036</td>\n",
       "      <td>West</td>\n",
       "      <td>Office Supplies</td>\n",
       "      <td>Labels</td>\n",
       "      <td>14.6200</td>\n",
       "      <td>2</td>\n",
       "      <td>0.00</td>\n",
       "      <td>6.8714</td>\n",
       "    </tr>\n",
       "    <tr>\n",
       "      <th>3</th>\n",
       "      <td>Standard Class</td>\n",
       "      <td>Consumer</td>\n",
       "      <td>United States</td>\n",
       "      <td>Fort Lauderdale</td>\n",
       "      <td>Florida</td>\n",
       "      <td>33311</td>\n",
       "      <td>South</td>\n",
       "      <td>Furniture</td>\n",
       "      <td>Tables</td>\n",
       "      <td>957.5775</td>\n",
       "      <td>5</td>\n",
       "      <td>0.45</td>\n",
       "      <td>-383.0310</td>\n",
       "    </tr>\n",
       "    <tr>\n",
       "      <th>4</th>\n",
       "      <td>Standard Class</td>\n",
       "      <td>Consumer</td>\n",
       "      <td>United States</td>\n",
       "      <td>Fort Lauderdale</td>\n",
       "      <td>Florida</td>\n",
       "      <td>33311</td>\n",
       "      <td>South</td>\n",
       "      <td>Office Supplies</td>\n",
       "      <td>Storage</td>\n",
       "      <td>22.3680</td>\n",
       "      <td>2</td>\n",
       "      <td>0.20</td>\n",
       "      <td>2.5164</td>\n",
       "    </tr>\n",
       "  </tbody>\n",
       "</table>\n",
       "</div>"
      ],
      "text/plain": [
       "        Ship Mode    Segment        Country             City       State  \\\n",
       "0    Second Class   Consumer  United States        Henderson    Kentucky   \n",
       "1    Second Class   Consumer  United States        Henderson    Kentucky   \n",
       "2    Second Class  Corporate  United States      Los Angeles  California   \n",
       "3  Standard Class   Consumer  United States  Fort Lauderdale     Florida   \n",
       "4  Standard Class   Consumer  United States  Fort Lauderdale     Florida   \n",
       "\n",
       "   Postal Code Region         Category Sub-Category     Sales  Quantity  \\\n",
       "0        42420  South        Furniture    Bookcases  261.9600         2   \n",
       "1        42420  South        Furniture       Chairs  731.9400         3   \n",
       "2        90036   West  Office Supplies       Labels   14.6200         2   \n",
       "3        33311  South        Furniture       Tables  957.5775         5   \n",
       "4        33311  South  Office Supplies      Storage   22.3680         2   \n",
       "\n",
       "   Discount    Profit  \n",
       "0      0.00   41.9136  \n",
       "1      0.00  219.5820  \n",
       "2      0.00    6.8714  \n",
       "3      0.45 -383.0310  \n",
       "4      0.20    2.5164  "
      ]
     },
     "execution_count": 2,
     "metadata": {},
     "output_type": "execute_result"
    }
   ],
   "source": [
    "import pandas as pd\n",
    "\n",
    "file_path = '/Users/andrejosadcij/documents/python/SampleSuperstore.csv'\n",
    "df = pd.read_csv(file_path)\n",
    "\n",
    "df.head()"
   ]
  },
  {
   "cell_type": "code",
   "execution_count": 3,
   "id": "fb71ad12-7441-4057-a5f9-bd888d31240d",
   "metadata": {},
   "outputs": [
    {
     "name": "stdout",
     "output_type": "stream",
     "text": [
      "Размер данных: (9994, 13)\n",
      "\n",
      "Информация о столбцах:\n",
      "<class 'pandas.core.frame.DataFrame'>\n",
      "RangeIndex: 9994 entries, 0 to 9993\n",
      "Data columns (total 13 columns):\n",
      " #   Column        Non-Null Count  Dtype  \n",
      "---  ------        --------------  -----  \n",
      " 0   Ship Mode     9994 non-null   object \n",
      " 1   Segment       9994 non-null   object \n",
      " 2   Country       9994 non-null   object \n",
      " 3   City          9994 non-null   object \n",
      " 4   State         9994 non-null   object \n",
      " 5   Postal Code   9994 non-null   int64  \n",
      " 6   Region        9994 non-null   object \n",
      " 7   Category      9994 non-null   object \n",
      " 8   Sub-Category  9994 non-null   object \n",
      " 9   Sales         9994 non-null   float64\n",
      " 10  Quantity      9994 non-null   int64  \n",
      " 11  Discount      9994 non-null   float64\n",
      " 12  Profit        9994 non-null   float64\n",
      "dtypes: float64(3), int64(2), object(8)\n",
      "memory usage: 1015.1+ KB\n"
     ]
    }
   ],
   "source": [
    "# Общая информация\n",
    "print(\"Размер данных:\", df.shape)\n",
    "print(\"\\nИнформация о столбцах:\")\n",
    "df.info()"
   ]
  },
  {
   "cell_type": "code",
   "execution_count": 8,
   "id": "f3c7a59d-c504-4c43-b4a8-8ef6cebfb81a",
   "metadata": {},
   "outputs": [
    {
     "name": "stdout",
     "output_type": "stream",
     "text": [
      "Названия колонок:\n",
      "- Ship Mode\n",
      "- Segment\n",
      "- Country\n",
      "- City\n",
      "- State\n",
      "- Postal Code\n",
      "- Region\n",
      "- Category\n",
      "- Sub-Category\n",
      "- Sales\n",
      "- Quantity\n",
      "- Discount\n",
      "- Profit\n"
     ]
    }
   ],
   "source": [
    "print(\"Названия колонок:\")\n",
    "for col in df.columns:\n",
    "    print(\"-\", col)"
   ]
  },
  {
   "cell_type": "markdown",
   "id": "1188fdbc-124e-4014-8241-b84f99925675",
   "metadata": {},
   "source": [
    "Как видим из названия колонок, то можно разделить действующий датасет на несколько структур, которые потом перекочуют в домены -\n",
    "1. Доставка\n",
    "2. Клиентский сегмент\n",
    "3. Географический\n",
    "4. Товар\n",
    "5. Факты (в нашем случае продажи)\n"
   ]
  },
  {
   "cell_type": "markdown",
   "id": "f05e8361-2021-4c25-b7f4-00330504372d",
   "metadata": {},
   "source": [
    "### 2. Проверка полноты"
   ]
  },
  {
   "cell_type": "code",
   "execution_count": 4,
   "id": "3c4db269-df59-4c34-be05-d168d95d2fed",
   "metadata": {},
   "outputs": [
    {
     "name": "stdout",
     "output_type": "stream",
     "text": [
      "\n",
      "Пропуски по столбцам:\n"
     ]
    },
    {
     "data": {
      "text/html": [
       "<div>\n",
       "<style scoped>\n",
       "    .dataframe tbody tr th:only-of-type {\n",
       "        vertical-align: middle;\n",
       "    }\n",
       "\n",
       "    .dataframe tbody tr th {\n",
       "        vertical-align: top;\n",
       "    }\n",
       "\n",
       "    .dataframe thead th {\n",
       "        text-align: right;\n",
       "    }\n",
       "</style>\n",
       "<table border=\"1\" class=\"dataframe\">\n",
       "  <thead>\n",
       "    <tr style=\"text-align: right;\">\n",
       "      <th></th>\n",
       "      <th>Missing</th>\n",
       "      <th>Percent</th>\n",
       "    </tr>\n",
       "  </thead>\n",
       "  <tbody>\n",
       "    <tr>\n",
       "      <th>Ship Mode</th>\n",
       "      <td>0</td>\n",
       "      <td>0.0</td>\n",
       "    </tr>\n",
       "    <tr>\n",
       "      <th>Segment</th>\n",
       "      <td>0</td>\n",
       "      <td>0.0</td>\n",
       "    </tr>\n",
       "    <tr>\n",
       "      <th>Country</th>\n",
       "      <td>0</td>\n",
       "      <td>0.0</td>\n",
       "    </tr>\n",
       "    <tr>\n",
       "      <th>City</th>\n",
       "      <td>0</td>\n",
       "      <td>0.0</td>\n",
       "    </tr>\n",
       "    <tr>\n",
       "      <th>State</th>\n",
       "      <td>0</td>\n",
       "      <td>0.0</td>\n",
       "    </tr>\n",
       "    <tr>\n",
       "      <th>Postal Code</th>\n",
       "      <td>0</td>\n",
       "      <td>0.0</td>\n",
       "    </tr>\n",
       "    <tr>\n",
       "      <th>Region</th>\n",
       "      <td>0</td>\n",
       "      <td>0.0</td>\n",
       "    </tr>\n",
       "    <tr>\n",
       "      <th>Category</th>\n",
       "      <td>0</td>\n",
       "      <td>0.0</td>\n",
       "    </tr>\n",
       "    <tr>\n",
       "      <th>Sub-Category</th>\n",
       "      <td>0</td>\n",
       "      <td>0.0</td>\n",
       "    </tr>\n",
       "    <tr>\n",
       "      <th>Sales</th>\n",
       "      <td>0</td>\n",
       "      <td>0.0</td>\n",
       "    </tr>\n",
       "    <tr>\n",
       "      <th>Quantity</th>\n",
       "      <td>0</td>\n",
       "      <td>0.0</td>\n",
       "    </tr>\n",
       "    <tr>\n",
       "      <th>Discount</th>\n",
       "      <td>0</td>\n",
       "      <td>0.0</td>\n",
       "    </tr>\n",
       "    <tr>\n",
       "      <th>Profit</th>\n",
       "      <td>0</td>\n",
       "      <td>0.0</td>\n",
       "    </tr>\n",
       "  </tbody>\n",
       "</table>\n",
       "</div>"
      ],
      "text/plain": [
       "              Missing  Percent\n",
       "Ship Mode           0      0.0\n",
       "Segment             0      0.0\n",
       "Country             0      0.0\n",
       "City                0      0.0\n",
       "State               0      0.0\n",
       "Postal Code         0      0.0\n",
       "Region              0      0.0\n",
       "Category            0      0.0\n",
       "Sub-Category        0      0.0\n",
       "Sales               0      0.0\n",
       "Quantity            0      0.0\n",
       "Discount            0      0.0\n",
       "Profit              0      0.0"
      ]
     },
     "metadata": {},
     "output_type": "display_data"
    }
   ],
   "source": [
    "# Количество пропусков по каждому столбцу\n",
    "missing_per_column = df.isna().sum()\n",
    "missing_percent = (df.isna().mean() * 100).round(2)\n",
    "\n",
    "print(\"\\nПропуски по столбцам:\")\n",
    "display(pd.DataFrame({'Missing': missing_per_column, 'Percent': missing_percent}))"
   ]
  },
  {
   "cell_type": "markdown",
   "id": "5c44f991-00f9-453c-8163-c2ec61f2f53f",
   "metadata": {},
   "source": [
    "Пропуспок по данным нет, отлично."
   ]
  },
  {
   "cell_type": "markdown",
   "id": "35706a23-27cb-49dc-8e42-7ddaf1fa7334",
   "metadata": {},
   "source": [
    "### 3. Проверка валидности и форматов"
   ]
  },
  {
   "cell_type": "code",
   "execution_count": 5,
   "id": "2c593b6e-de36-40f2-887c-3efed46aa577",
   "metadata": {},
   "outputs": [
    {
     "name": "stdout",
     "output_type": "stream",
     "text": [
      "\n",
      "Числовые колонки — статистика:\n"
     ]
    },
    {
     "data": {
      "text/html": [
       "<div>\n",
       "<style scoped>\n",
       "    .dataframe tbody tr th:only-of-type {\n",
       "        vertical-align: middle;\n",
       "    }\n",
       "\n",
       "    .dataframe tbody tr th {\n",
       "        vertical-align: top;\n",
       "    }\n",
       "\n",
       "    .dataframe thead th {\n",
       "        text-align: right;\n",
       "    }\n",
       "</style>\n",
       "<table border=\"1\" class=\"dataframe\">\n",
       "  <thead>\n",
       "    <tr style=\"text-align: right;\">\n",
       "      <th></th>\n",
       "      <th>Postal Code</th>\n",
       "      <th>Sales</th>\n",
       "      <th>Quantity</th>\n",
       "      <th>Discount</th>\n",
       "      <th>Profit</th>\n",
       "    </tr>\n",
       "  </thead>\n",
       "  <tbody>\n",
       "    <tr>\n",
       "      <th>count</th>\n",
       "      <td>9994.000000</td>\n",
       "      <td>9994.000000</td>\n",
       "      <td>9994.000000</td>\n",
       "      <td>9994.000000</td>\n",
       "      <td>9994.000000</td>\n",
       "    </tr>\n",
       "    <tr>\n",
       "      <th>mean</th>\n",
       "      <td>55190.379428</td>\n",
       "      <td>229.858001</td>\n",
       "      <td>3.789574</td>\n",
       "      <td>0.156203</td>\n",
       "      <td>28.656896</td>\n",
       "    </tr>\n",
       "    <tr>\n",
       "      <th>std</th>\n",
       "      <td>32063.693350</td>\n",
       "      <td>623.245101</td>\n",
       "      <td>2.225110</td>\n",
       "      <td>0.206452</td>\n",
       "      <td>234.260108</td>\n",
       "    </tr>\n",
       "    <tr>\n",
       "      <th>min</th>\n",
       "      <td>1040.000000</td>\n",
       "      <td>0.444000</td>\n",
       "      <td>1.000000</td>\n",
       "      <td>0.000000</td>\n",
       "      <td>-6599.978000</td>\n",
       "    </tr>\n",
       "    <tr>\n",
       "      <th>25%</th>\n",
       "      <td>23223.000000</td>\n",
       "      <td>17.280000</td>\n",
       "      <td>2.000000</td>\n",
       "      <td>0.000000</td>\n",
       "      <td>1.728750</td>\n",
       "    </tr>\n",
       "    <tr>\n",
       "      <th>50%</th>\n",
       "      <td>56430.500000</td>\n",
       "      <td>54.490000</td>\n",
       "      <td>3.000000</td>\n",
       "      <td>0.200000</td>\n",
       "      <td>8.666500</td>\n",
       "    </tr>\n",
       "    <tr>\n",
       "      <th>75%</th>\n",
       "      <td>90008.000000</td>\n",
       "      <td>209.940000</td>\n",
       "      <td>5.000000</td>\n",
       "      <td>0.200000</td>\n",
       "      <td>29.364000</td>\n",
       "    </tr>\n",
       "    <tr>\n",
       "      <th>max</th>\n",
       "      <td>99301.000000</td>\n",
       "      <td>22638.480000</td>\n",
       "      <td>14.000000</td>\n",
       "      <td>0.800000</td>\n",
       "      <td>8399.976000</td>\n",
       "    </tr>\n",
       "  </tbody>\n",
       "</table>\n",
       "</div>"
      ],
      "text/plain": [
       "        Postal Code         Sales     Quantity     Discount       Profit\n",
       "count   9994.000000   9994.000000  9994.000000  9994.000000  9994.000000\n",
       "mean   55190.379428    229.858001     3.789574     0.156203    28.656896\n",
       "std    32063.693350    623.245101     2.225110     0.206452   234.260108\n",
       "min     1040.000000      0.444000     1.000000     0.000000 -6599.978000\n",
       "25%    23223.000000     17.280000     2.000000     0.000000     1.728750\n",
       "50%    56430.500000     54.490000     3.000000     0.200000     8.666500\n",
       "75%    90008.000000    209.940000     5.000000     0.200000    29.364000\n",
       "max    99301.000000  22638.480000    14.000000     0.800000  8399.976000"
      ]
     },
     "metadata": {},
     "output_type": "display_data"
    },
    {
     "name": "stdout",
     "output_type": "stream",
     "text": [
      "\n",
      "Строковые колонки — длины строк:\n",
      "Ship Mode                  Max:    14  Min:     8  Avg:  12.82\n",
      "Segment                    Max:    11  Min:     8  Avg:   8.84\n",
      "Country                    Max:    13  Min:    13  Avg:  13.00\n",
      "City                       Max:    17  Min:     4  Avg:   9.33\n",
      "State                      Max:    20  Min:     4  Avg:   8.49\n",
      "Region                     Max:     7  Min:     4  Avg:   4.86\n",
      "Category                   Max:    15  Min:     9  Avg:  12.80\n",
      "Sub-Category               Max:    11  Min:     3  Avg:   7.19\n"
     ]
    }
   ],
   "source": [
    "# Проверяем соответствие типов данных и базовую статистику\n",
    "print(\"\\nЧисловые колонки — статистика:\")\n",
    "display(df.describe())\n",
    "\n",
    "print(\"\\nСтроковые колонки — длины строк:\")\n",
    "str_cols = df.select_dtypes(include='object').columns\n",
    "for col in str_cols:\n",
    "    lengths = df[col].astype(str).str.len()\n",
    "    print(f\"{col:25s}  Max: {lengths.max():5.0f}  Min: {lengths.min():5.0f}  Avg: {lengths.mean():6.2f}\")"
   ]
  },
  {
   "cell_type": "markdown",
   "id": "78032c57-8f9c-428c-a26d-9f341c89c090",
   "metadata": {},
   "source": [
    "Все форматы колонок корректны. "
   ]
  },
  {
   "cell_type": "markdown",
   "id": "fb7550c2-f533-4246-acca-6f59c93a04e5",
   "metadata": {},
   "source": [
    "### 4. Проверка наличия полных дублей"
   ]
  },
  {
   "cell_type": "code",
   "execution_count": 6,
   "id": "e1e811db-f24b-46ac-84cb-5e1c0657f400",
   "metadata": {},
   "outputs": [
    {
     "name": "stdout",
     "output_type": "stream",
     "text": [
      "\n",
      "Количество дублированных строк: 17\n"
     ]
    }
   ],
   "source": [
    "# Проверим дубликаты строк\n",
    "duplicate_rows = df[df.duplicated()]\n",
    "print(f\"\\nКоличество дублированных строк: {len(duplicate_rows)}\")\n",
    "\n",
    "if 'id' in df.columns:\n",
    "    print(\"Дубликаты по id:\", df['id'].duplicated().sum())"
   ]
  },
  {
   "cell_type": "markdown",
   "id": "f7a14f27-104c-43b7-aaac-7b213c6922ed",
   "metadata": {},
   "source": [
    "Есть полные дубликаты. Уберём их."
   ]
  },
  {
   "cell_type": "code",
   "execution_count": 11,
   "id": "5caa1923-dcba-4b53-a8e0-ba3c3e89927d",
   "metadata": {},
   "outputs": [
    {
     "name": "stdout",
     "output_type": "stream",
     "text": [
      "После очистки: 0\n"
     ]
    }
   ],
   "source": [
    "# Удаляем дубликаты\n",
    "df = df.drop_duplicates()\n",
    "\n",
    "# Проверяем, остались ли дубликаты\n",
    "print(\"После очистки:\", df.duplicated().sum())"
   ]
  },
  {
   "cell_type": "code",
   "execution_count": 7,
   "id": "6fbb8992-637f-4c92-9a9d-d323bb03ef25",
   "metadata": {},
   "outputs": [
    {
     "data": {
      "image/png": "[encoded data removed]",
      "text/plain": [
       "<Figure size 800x600 with 2 Axes>"
      ]
     },
     "metadata": {},
     "output_type": "display_data"
    }
   ],
   "source": [
    "import matplotlib.pyplot as plt\n",
    "\n",
    "num_cols = df.select_dtypes(include=['number']).columns\n",
    "if len(num_cols) > 1:\n",
    "    corr = df[num_cols].corr()\n",
    "    plt.figure(figsize=(8,6))\n",
    "    plt.imshow(corr, cmap='Blues')\n",
    "    plt.colorbar()\n",
    "    plt.xticks(range(len(num_cols)), num_cols, rotation=45, ha='right')\n",
    "    plt.yticks(range(len(num_cols)), num_cols)\n",
    "    plt.title(\"Корреляционная матрица\")\n",
    "    plt.show()"
   ]
  },
  {
   "cell_type": "markdown",
   "id": "3331ff8a-00da-4707-b88d-ad0fc7bb2cc7",
   "metadata": {},
   "source": [
    "* Sales и Profit можно рассматривать как сильно взаимосвязанные метрики → при моделировании лучше не использовать обе как независимые признаки (во избежание мультиколлинеарности).\n",
    "* Discount оказывает заметное отрицательное влияние на прибыль → полезно для построения витрин KPI и для бизнес-инсайтов (оптимизация скидок).\n",
    "* Quantity не определяет прибыль напрямую, что указывает на неравномерную маржинальность товаров.\n",
    "* Postal Code не несёт числового смысла и в DV-модели пойдёт как часть бизнес-ключа географии, но не в аналитические метрики."
   ]
  },
  {
   "cell_type": "markdown",
   "id": "d9011daa-5be5-4952-b512-96737199f458",
   "metadata": {},
   "source": [
    "Выгрузим очищенный файл на компьютер"
   ]
  },
  {
   "cell_type": "code",
   "execution_count": 12,
   "id": "fd6d3979-62a4-4159-8395-907654bc6eeb",
   "metadata": {},
   "outputs": [
    {
     "name": "stdout",
     "output_type": "stream",
     "text": [
      "/Users/andrejosadcij\n"
     ]
    }
   ],
   "source": [
    "import os\n",
    "print(os.getcwd())"
   ]
  },
  {
   "cell_type": "code",
   "execution_count": 13,
   "id": "da558b83-a559-4681-b7fc-d6a68d05a318",
   "metadata": {},
   "outputs": [],
   "source": [
    "df.to_csv('/Users/andrejosadcij/Documents/SampleSuperstore_clean.csv', index=False, encoding='utf-8')"
   ]
  }
 ],
 "metadata": {
  "kernelspec": {
   "display_name": "Python 3 (ipykernel)",
   "language": "python",
   "name": "python3"
  },
  "language_info": {
   "codemirror_mode": {
    "name": "ipython",
    "version": 3
   },
   "file_extension": ".py",
   "mimetype": "text/x-python",
   "name": "python",
   "nbconvert_exporter": "python",
   "pygments_lexer": "ipython3",
   "version": "3.9.6"
  }
 },
 "nbformat": 4,
 "nbformat_minor": 5
}
